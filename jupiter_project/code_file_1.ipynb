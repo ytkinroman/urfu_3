{
 "cells": [
  {
   "cell_type": "code",
   "execution_count": 2,
   "id": "37a8c90f-ed94-4b58-8e2a-0f1cac6ecb6f",
   "metadata": {},
   "outputs": [],
   "source": [
    "import gspread\n",
    "import numpy as np\n",
    "import random"
   ]
  },
  {
   "cell_type": "code",
   "execution_count": 3,
   "id": "4931d90b-a52d-420b-a375-c002239be136",
   "metadata": {},
   "outputs": [],
   "source": [
    "gc = gspread.service_account(filename=\"unitydatascience-437215-33c36e26e378.json\")\n",
    "sh = gc.open(\"UnityWorkshop2\")\n",
    "sheet = sh.sheet1"
   ]
  },
  {
   "cell_type": "markdown",
   "id": "d02cd4a1-8292-458d-a6d8-bb21c1941031",
   "metadata": {},
   "source": [
    "# Основные данные"
   ]
  },
  {
   "cell_type": "code",
   "execution_count": 4,
   "id": "48de6c71-a840-4013-8d86-28618abb62ee",
   "metadata": {},
   "outputs": [],
   "source": [
    "values_count = 9  # Кол-во ячеек в таблице."
   ]
  },
  {
   "cell_type": "markdown",
   "id": "958b9ea1-5900-4e95-b87b-5fcacd5a607b",
   "metadata": {},
   "source": [
    "## Скорость дракона"
   ]
  },
  {
   "cell_type": "code",
   "execution_count": 21,
   "id": "6f8c21ee-6714-48ba-af38-1a0280df7253",
   "metadata": {},
   "outputs": [
    {
     "name": "stdout",
     "output_type": "stream",
     "text": [
      "[6.74, 9.34, 10.21, 12.46, 13.15, 16.12, 21.09, 23.82, 28.61]\n"
     ]
    }
   ],
   "source": [
    "# Генерируем случайные значения скорости движения дракона.\n",
    "\n",
    "start_speed_value = 4.0\n",
    "speed_values = []\n",
    "max_value = 5.0\n",
    "min_value = 0.5\n",
    "\n",
    "current_speed = start_speed_value\n",
    "for _ in range(values_count):\n",
    "    step = random.uniform(min_value, max_value)\n",
    "    current_speed += step\n",
    "    speed_values.append(round(current_speed, 2))\n",
    "\n",
    "print(speed_values)\n"
   ]
  },
  {
   "cell_type": "code",
   "execution_count": 26,
   "id": "95cdbd55-0d3e-4601-9969-56acb2cd544a",
   "metadata": {},
   "outputs": [
    {
     "name": "stdout",
     "output_type": "stream",
     "text": [
      "6.74 +\n",
      "9.34 +\n",
      "10.21 +\n",
      "12.46 +\n",
      "13.15 +\n",
      "16.12 +\n",
      "21.09 +\n",
      "23.82 +\n",
      "28.61 +\n"
     ]
    }
   ],
   "source": [
    "# Заполняем таблицу значениями скорости дракона.\n",
    "\n",
    "colum_value = 3  # Номер столбца.\n",
    "start_value_line = 3\n",
    "end_value_line = 11\n",
    "\n",
    "for i, value in enumerate(speed_values):\n",
    "    if start_value_line + i > end_value_line:\n",
    "        break\n",
    "    sheet.update_cell(start_value_line + i, colum_value, value)\n",
    "    print(f\"{value} +\")\n",
    "    "
   ]
  },
  {
   "cell_type": "markdown",
   "id": "4cc78609-5370-4290-a1df-7522fb3242c4",
   "metadata": {},
   "source": [
    "## Время между сбросом яиц"
   ]
  },
  {
   "cell_type": "code",
   "execution_count": 28,
   "id": "9c324348-1d14-4bb5-8e3b-6fdab52ad40f",
   "metadata": {},
   "outputs": [
    {
     "name": "stdout",
     "output_type": "stream",
     "text": [
      "[1.69, 1.53, 1.18, 1.12, 1.0, 0.87, 0.74, 0.43, 0.23]\n"
     ]
    }
   ],
   "source": [
    "# Генерируем значения времени между сбросами яиц.\n",
    "\n",
    "start_time_between_drops = 2.0\n",
    "time_between_drops = []\n",
    "max_value = 0.4\n",
    "min_value = 0.05\n",
    "\n",
    "current_time = start_time_between_drops\n",
    "for _ in range(values_count):\n",
    "    decrement = random.uniform(min_value, max_value)\n",
    "    current_time -= decrement\n",
    "    if current_time < 0:\n",
    "        current_time = 0\n",
    "    time_between_drops.append(round(current_time, 2))\n",
    "\n",
    "print(time_between_drops)\n"
   ]
  },
  {
   "cell_type": "code",
   "execution_count": 29,
   "id": "8774f435-5f4a-47ec-982c-2fecf1e7d8a9",
   "metadata": {},
   "outputs": [
    {
     "name": "stdout",
     "output_type": "stream",
     "text": [
      "1.69 +\n",
      "1.53 +\n",
      "1.18 +\n",
      "1.12 +\n",
      "1.0 +\n",
      "0.87 +\n",
      "0.74 +\n",
      "0.43 +\n",
      "0.23 +\n"
     ]
    }
   ],
   "source": [
    "# Заполняем таблицу значениями времени между сбросами яиц.\n",
    "\n",
    "colum_value = 4  # Номер столбца.\n",
    "start_value_line = 3\n",
    "end_value_line = 11\n",
    "\n",
    "for i, value in enumerate(time_between_drops):\n",
    "    if start_value_line + i > end_value_line:\n",
    "        break\n",
    "    sheet.update_cell(start_value_line + i, colum_value, value)\n",
    "    print(f\"{value} +\")"
   ]
  },
  {
   "cell_type": "markdown",
   "id": "e151bf71-651e-4b99-9bef-9fdf4040f92a",
   "metadata": {},
   "source": [
    "## Расстояние движения"
   ]
  },
  {
   "cell_type": "code",
   "execution_count": 15,
   "id": "5552a8b8-0a03-45d1-ac24-9f3f91dd36e8",
   "metadata": {},
   "outputs": [
    {
     "name": "stdout",
     "output_type": "stream",
     "text": [
      "[11.0, 12.88, 14.69, 16.1, 17.85, 19.56, 21.39, 23.05, 24.15]\n"
     ]
    }
   ],
   "source": [
    "# Генерируем расстояние.\n",
    "\n",
    "start_distance = 10.0\n",
    "distances = []\n",
    "max_value = 2.0\n",
    "min_value = 0.5\n",
    "\n",
    "current_distance = start_distance\n",
    "for _ in range(values_count):\n",
    "    increment = random.uniform(min_value, max_value)\n",
    "    current_distance += increment\n",
    "    distances.append(round(current_distance, 2))\n",
    "\n",
    "print(distances)"
   ]
  },
  {
   "cell_type": "code",
   "execution_count": 16,
   "id": "c8d5ba18-5bfe-442e-9662-a4b0fae65319",
   "metadata": {},
   "outputs": [
    {
     "name": "stdout",
     "output_type": "stream",
     "text": [
      "11.0 +\n",
      "12.88 +\n",
      "14.69 +\n",
      "16.1 +\n",
      "17.85 +\n",
      "19.56 +\n",
      "21.39 +\n",
      "23.05 +\n",
      "24.15 +\n"
     ]
    }
   ],
   "source": [
    "colum_value = 5\n",
    "start_value_line = 3 \n",
    "end_value_line = 11 \n",
    "\n",
    "for i, value in enumerate(distances):\n",
    "    if start_value_line + i > end_value_line:\n",
    "        break\n",
    "    sheet.update_cell(start_value_line + i, colum_value, value)\n",
    "    print(f\"{value} +\")"
   ]
  },
  {
   "cell_type": "markdown",
   "id": "de9ec68e-e87b-4b64-a7ea-1865ee0689a9",
   "metadata": {},
   "source": [
    "## Вероятность поменять траекторию"
   ]
  },
  {
   "cell_type": "code",
   "execution_count": 22,
   "id": "c5cecc48-37fc-4119-b4f6-84d8a6b67b11",
   "metadata": {},
   "outputs": [
    {
     "name": "stdout",
     "output_type": "stream",
     "text": [
      "[0.003, 0.005, 0.007, 0.011, 0.012, 0.013, 0.016, 0.019, 0.02]\n"
     ]
    }
   ],
   "source": [
    "# Генерация значений вероятности.\n",
    "\n",
    "start_probability = 0.001\n",
    "probabilities = []\n",
    "max_value = 0.0005\n",
    "min_value = 0.004\n",
    "\n",
    "current_probability = start_probability\n",
    "for _ in range(values_count):\n",
    "    increment = random.uniform(min_value, max_value)\n",
    "    current_probability += increment\n",
    "    probabilities.append(round(current_probability, 3))  # Округляем до трех знаков после запятой.\n",
    "\n",
    "print(probabilities)"
   ]
  },
  {
   "cell_type": "code",
   "execution_count": 23,
   "id": "7827444c-dfb9-4ddf-9e93-180e571990d4",
   "metadata": {},
   "outputs": [
    {
     "name": "stdout",
     "output_type": "stream",
     "text": [
      "0.003 +\n",
      "0.005 +\n",
      "0.007 +\n",
      "0.011 +\n",
      "0.012 +\n",
      "0.013 +\n",
      "0.016 +\n",
      "0.019 +\n",
      "0.02 +\n"
     ]
    }
   ],
   "source": [
    "# Заполняем таблицу.\n",
    "\n",
    "colum_value = 6 \n",
    "start_value_line = 3 \n",
    "end_value_line = 11\n",
    "\n",
    "for i, value in enumerate(probabilities):\n",
    "    if start_value_line + i > end_value_line:\n",
    "        break\n",
    "    sheet.update_cell(start_value_line + i, colum_value, value)\n",
    "    print(f\"{value} +\")"
   ]
  },
  {
   "cell_type": "markdown",
   "id": "15b5afbb-7ea3-4a04-bdce-8bb5334d99c9",
   "metadata": {},
   "source": [
    "## Количество яиц которые нужно поймать, чтобы перейти на следующий уровень"
   ]
  },
  {
   "cell_type": "code",
   "execution_count": 26,
   "id": "400f9a33-6e9d-49f7-9b8e-a31f649b0969",
   "metadata": {},
   "outputs": [
    {
     "name": "stdout",
     "output_type": "stream",
     "text": [
      "[17, 27, 37, 44, 51, 57, 62, 69, 75]\n"
     ]
    }
   ],
   "source": [
    "# Генерация значений количества яиц.\n",
    "\n",
    "start_eggs = 10\n",
    "eggs = []\n",
    "max_value = 10\n",
    "min_value = 5\n",
    "\n",
    "current_eggs = start_eggs\n",
    "for _ in range(values_count):\n",
    "    increment = random.randint(min_value, max_value)\n",
    "    current_eggs += increment\n",
    "    eggs.append(current_eggs)\n",
    "\n",
    "print(eggs)"
   ]
  },
  {
   "cell_type": "code",
   "execution_count": 29,
   "id": "4e4e9523-2fd7-48c0-be7e-22b4a0b0c89d",
   "metadata": {},
   "outputs": [
    {
     "name": "stdout",
     "output_type": "stream",
     "text": [
      "17 +\n",
      "27 +\n",
      "37 +\n",
      "44 +\n",
      "51 +\n",
      "57 +\n",
      "62 +\n",
      "69 +\n",
      "75 +\n"
     ]
    }
   ],
   "source": [
    "# Заполняем таблицу.\n",
    "\n",
    "colum_value = 10\n",
    "start_value_line = 3 \n",
    "end_value_line = 11\n",
    "\n",
    "for i, value in enumerate(eggs):\n",
    "    if start_value_line + i > end_value_line:\n",
    "        break\n",
    "    sheet.update_cell(start_value_line + i, colum_value, value)\n",
    "    print(f\"{value} +\")"
   ]
  },
  {
   "cell_type": "markdown",
   "id": "e3fd25ea-d86c-4451-be9a-47b2d64aaf11",
   "metadata": {},
   "source": [
    "# БАЛАНСИРОВКА"
   ]
  },
  {
   "cell_type": "markdown",
   "id": "54800259-b191-4ab8-980e-26389cef55b1",
   "metadata": {},
   "source": [
    "## Время сброса яиц"
   ]
  },
  {
   "cell_type": "code",
   "execution_count": 38,
   "id": "dd9fcaf4-ae0c-47e8-b3b9-71a707c22721",
   "metadata": {},
   "outputs": [
    {
     "name": "stdout",
     "output_type": "stream",
     "text": [
      "[1.8, 1.63, 1.51, 1.4, 1.21, 1.07, 0.89, 0.78, 0.7]\n"
     ]
    }
   ],
   "source": [
    "# Генерируем значения времени между сбросами яиц.\n",
    "\n",
    "start_time_between_drops = 2.0\n",
    "time_between_drops = []\n",
    "max_value = 0.2\n",
    "min_value = 0.05\n",
    "\n",
    "current_time = start_time_between_drops\n",
    "for _ in range(values_count):\n",
    "    decrement = random.uniform(min_value, max_value)\n",
    "    current_time -= decrement\n",
    "    if current_time < 0:\n",
    "        current_time = 0\n",
    "    time_between_drops.append(round(current_time, 2))\n",
    "\n",
    "print(time_between_drops)\n"
   ]
  },
  {
   "cell_type": "code",
   "execution_count": 39,
   "id": "d2d0b3fa-9dad-4b5a-a80b-de9b94da41e2",
   "metadata": {},
   "outputs": [
    {
     "name": "stdout",
     "output_type": "stream",
     "text": [
      "1.8 +\n",
      "1.63 +\n",
      "1.51 +\n",
      "1.4 +\n",
      "1.21 +\n",
      "1.07 +\n",
      "0.89 +\n",
      "0.78 +\n",
      "0.7 +\n"
     ]
    }
   ],
   "source": [
    "# Заполняем таблицу значениями времени между сбросами яиц.\n",
    "\n",
    "colum_value = 4  # Номер столбца.\n",
    "start_value_line = 17\n",
    "end_value_line = 25\n",
    "\n",
    "for i, value in enumerate(time_between_drops):\n",
    "    if start_value_line + i > end_value_line:\n",
    "        break\n",
    "    sheet.update_cell(start_value_line + i, colum_value, value)\n",
    "    print(f\"{value} +\")\n"
   ]
  },
  {
   "cell_type": "markdown",
   "id": "5d781193-3aea-4f47-b794-6e6431fe69de",
   "metadata": {},
   "source": [
    "## Расстояние движения"
   ]
  },
  {
   "cell_type": "code",
   "execution_count": 30,
   "id": "030b859f-394e-44cc-b53a-b950f3bac814",
   "metadata": {},
   "outputs": [
    {
     "name": "stdout",
     "output_type": "stream",
     "text": [
      "[11.8, 13.19, 14.24, 14.91, 16.43, 17.0, 17.59, 19.1, 20.63]\n"
     ]
    }
   ],
   "source": [
    "# Генерируем расстояние.\n",
    "\n",
    "start_distance = 10.0\n",
    "distances = []\n",
    "max_value = 2.0\n",
    "min_value = 0.5\n",
    "\n",
    "current_distance = start_distance\n",
    "for _ in range(values_count):\n",
    "    increment = random.uniform(min_value, max_value)\n",
    "    current_distance += increment\n",
    "    distances.append(round(current_distance, 2))\n",
    "\n",
    "print(distances)"
   ]
  },
  {
   "cell_type": "code",
   "execution_count": 31,
   "id": "e717d839-80ce-40ce-9b14-221b09749d4a",
   "metadata": {},
   "outputs": [
    {
     "name": "stdout",
     "output_type": "stream",
     "text": [
      "11.8 +\n",
      "13.19 +\n",
      "14.24 +\n",
      "14.91 +\n",
      "16.43 +\n",
      "17.0 +\n",
      "17.59 +\n",
      "19.1 +\n",
      "20.63 +\n"
     ]
    }
   ],
   "source": [
    "# Заполняем таблицу.\n",
    "\n",
    "colum_value = 5\n",
    "start_value_line = 17\n",
    "end_value_line = 25\n",
    "\n",
    "for i, value in enumerate(distances):\n",
    "    if start_value_line + i > end_value_line:\n",
    "        break\n",
    "    sheet.update_cell(start_value_line + i, colum_value, value)\n",
    "    print(f\"{value} +\")"
   ]
  },
  {
   "cell_type": "code",
   "execution_count": null,
   "id": "21f0d6d7-e4b7-46ee-80b0-c15b135926e2",
   "metadata": {},
   "outputs": [],
   "source": []
  }
 ],
 "metadata": {
  "kernelspec": {
   "display_name": "Python 3 (ipykernel)",
   "language": "python",
   "name": "python3"
  },
  "language_info": {
   "codemirror_mode": {
    "name": "ipython",
    "version": 3
   },
   "file_extension": ".py",
   "mimetype": "text/x-python",
   "name": "python",
   "nbconvert_exporter": "python",
   "pygments_lexer": "ipython3",
   "version": "3.12.5"
  }
 },
 "nbformat": 4,
 "nbformat_minor": 5
}
